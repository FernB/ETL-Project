{
 "cells": [
  {
   "cell_type": "code",
   "execution_count": null,
   "id": "28967a8d",
   "metadata": {},
   "outputs": [],
   "source": [
    "import pandas as pd"
   ]
  },
  {
   "cell_type": "code",
   "execution_count": 1,
   "id": "86fce91f",
   "metadata": {},
   "outputs": [],
   "source": [
    "import requests\n",
    "from bs4 import BeautifulSoup\n",
    "\n",
    "\n",
    "def main(url):\n",
    "    with requests.Session() as req:\n",
    "        r = req.get(url)\n",
    "        soup = BeautifulSoup(r.content, 'html.parser')\n",
    "        target = [f\"{url[:20]}{item['href']}\" for item in soup.select(\n",
    "            \"a[href$='VX.csv']\")]\n",
    "        for x in target:\n",
    "            print(f\"Downloading {x}\")\n",
    "            r = req.get(x)\n",
    "            name = x.rsplit(\"/\", 1)[-1]\n",
    "            with open(name, 'wb') as f:\n",
    "                f.write(r.content)\n",
    "\n",
    "\n",
    "main(\"https://data.gov.au/data/dataset/1b55352e-c0d8-48c8-9828-ef12885c9797\")\n",
    "\n"
   ]
  },
  {
   "cell_type": "code",
   "execution_count": null,
   "id": "95e484a2",
   "metadata": {},
   "outputs": [],
   "source": []
  }
 ],
 "metadata": {
  "kernelspec": {
   "display_name": "Python 3",
   "language": "python",
   "name": "python3"
  },
  "language_info": {
   "codemirror_mode": {
    "name": "ipython",
    "version": 3
   },
   "file_extension": ".py",
   "mimetype": "text/x-python",
   "name": "python",
   "nbconvert_exporter": "python",
   "pygments_lexer": "ipython3",
   "version": "3.8.5"
  }
 },
 "nbformat": 4,
 "nbformat_minor": 5
}
